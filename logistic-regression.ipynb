{
 "cells": [
  {
   "cell_type": "markdown",
   "id": "97614891",
   "metadata": {},
   "source": [
    "### Logistic Regression for Classification"
   ]
  },
  {
   "cell_type": "markdown",
   "id": "19109e28",
   "metadata": {},
   "source": [
    "### Import Libraries"
   ]
  },
  {
   "cell_type": "code",
   "execution_count": 76,
   "id": "d0ef49ce",
   "metadata": {},
   "outputs": [],
   "source": [
    "import numpy as np\n",
    "import pandas as pd"
   ]
  },
  {
   "cell_type": "markdown",
   "id": "d7d70660",
   "metadata": {},
   "source": [
    "### Load Dataset"
   ]
  },
  {
   "cell_type": "code",
   "execution_count": 77,
   "id": "759216dd",
   "metadata": {},
   "outputs": [
    {
     "data": {
      "text/html": [
       "<div>\n",
       "<style scoped>\n",
       "    .dataframe tbody tr th:only-of-type {\n",
       "        vertical-align: middle;\n",
       "    }\n",
       "\n",
       "    .dataframe tbody tr th {\n",
       "        vertical-align: top;\n",
       "    }\n",
       "\n",
       "    .dataframe thead th {\n",
       "        text-align: right;\n",
       "    }\n",
       "</style>\n",
       "<table border=\"1\" class=\"dataframe\">\n",
       "  <thead>\n",
       "    <tr style=\"text-align: right;\">\n",
       "      <th></th>\n",
       "      <th>Temperature</th>\n",
       "      <th>Humidity</th>\n",
       "      <th>Wind_Speed</th>\n",
       "      <th>Cloud_Cover</th>\n",
       "      <th>Pressure</th>\n",
       "      <th>Rain</th>\n",
       "    </tr>\n",
       "  </thead>\n",
       "  <tbody>\n",
       "    <tr>\n",
       "      <th>0</th>\n",
       "      <td>23.720338</td>\n",
       "      <td>89.592641</td>\n",
       "      <td>7.335604</td>\n",
       "      <td>50.501694</td>\n",
       "      <td>1032.378759</td>\n",
       "      <td>rain</td>\n",
       "    </tr>\n",
       "    <tr>\n",
       "      <th>1</th>\n",
       "      <td>27.879734</td>\n",
       "      <td>46.489704</td>\n",
       "      <td>5.952484</td>\n",
       "      <td>4.990053</td>\n",
       "      <td>992.614190</td>\n",
       "      <td>no rain</td>\n",
       "    </tr>\n",
       "    <tr>\n",
       "      <th>2</th>\n",
       "      <td>25.069084</td>\n",
       "      <td>83.072843</td>\n",
       "      <td>1.371992</td>\n",
       "      <td>14.855784</td>\n",
       "      <td>1007.231620</td>\n",
       "      <td>no rain</td>\n",
       "    </tr>\n",
       "    <tr>\n",
       "      <th>3</th>\n",
       "      <td>23.622080</td>\n",
       "      <td>74.367758</td>\n",
       "      <td>7.050551</td>\n",
       "      <td>67.255282</td>\n",
       "      <td>982.632013</td>\n",
       "      <td>rain</td>\n",
       "    </tr>\n",
       "    <tr>\n",
       "      <th>4</th>\n",
       "      <td>20.591370</td>\n",
       "      <td>96.858822</td>\n",
       "      <td>4.643921</td>\n",
       "      <td>47.676444</td>\n",
       "      <td>980.825142</td>\n",
       "      <td>no rain</td>\n",
       "    </tr>\n",
       "  </tbody>\n",
       "</table>\n",
       "</div>"
      ],
      "text/plain": [
       "   Temperature   Humidity  Wind_Speed  Cloud_Cover     Pressure     Rain\n",
       "0    23.720338  89.592641    7.335604    50.501694  1032.378759     rain\n",
       "1    27.879734  46.489704    5.952484     4.990053   992.614190  no rain\n",
       "2    25.069084  83.072843    1.371992    14.855784  1007.231620  no rain\n",
       "3    23.622080  74.367758    7.050551    67.255282   982.632013     rain\n",
       "4    20.591370  96.858822    4.643921    47.676444   980.825142  no rain"
      ]
     },
     "execution_count": 77,
     "metadata": {},
     "output_type": "execute_result"
    }
   ],
   "source": [
    "\"\"\"Load data here\"\"\"\n",
    "data = pd.read_csv('data.csv')\n",
    "data.head()"
   ]
  },
  {
   "cell_type": "markdown",
   "id": "709ca5c5",
   "metadata": {},
   "source": [
    "### Check for Missing Values"
   ]
  },
  {
   "cell_type": "code",
   "execution_count": 78,
   "id": "be32dbb6",
   "metadata": {},
   "outputs": [
    {
     "name": "stdout",
     "output_type": "stream",
     "text": [
      "Temperature    0\n",
      "Humidity       0\n",
      "Wind_Speed     0\n",
      "Cloud_Cover    0\n",
      "Pressure       0\n",
      "Rain           0\n",
      "dtype: int64\n"
     ]
    }
   ],
   "source": [
    "\"\"\"Check for Missing Data\"\"\"\n",
    "print(data.isnull().sum())"
   ]
  },
  {
   "cell_type": "markdown",
   "id": "a49964dd",
   "metadata": {},
   "source": [
    "### Perform Minmax Scaling"
   ]
  },
  {
   "cell_type": "code",
   "execution_count": 79,
   "id": "c9f04b78",
   "metadata": {},
   "outputs": [],
   "source": [
    "def minmax_scaling (data, column):\n",
    "    min = data[column].min()\n",
    "    max = data[column].max()\n",
    "    return (data[column] - min) / (max - min)"
   ]
  },
  {
   "cell_type": "code",
   "execution_count": 80,
   "id": "0bd9acbc",
   "metadata": {},
   "outputs": [
    {
     "data": {
      "text/html": [
       "<div>\n",
       "<style scoped>\n",
       "    .dataframe tbody tr th:only-of-type {\n",
       "        vertical-align: middle;\n",
       "    }\n",
       "\n",
       "    .dataframe tbody tr th {\n",
       "        vertical-align: top;\n",
       "    }\n",
       "\n",
       "    .dataframe thead th {\n",
       "        text-align: right;\n",
       "    }\n",
       "</style>\n",
       "<table border=\"1\" class=\"dataframe\">\n",
       "  <thead>\n",
       "    <tr style=\"text-align: right;\">\n",
       "      <th></th>\n",
       "      <th>Temperature</th>\n",
       "      <th>Humidity</th>\n",
       "      <th>Wind_Speed</th>\n",
       "      <th>Cloud_Cover</th>\n",
       "      <th>Pressure</th>\n",
       "      <th>Rain</th>\n",
       "    </tr>\n",
       "  </thead>\n",
       "  <tbody>\n",
       "    <tr>\n",
       "      <th>0</th>\n",
       "      <td>0.548885</td>\n",
       "      <td>0.851343</td>\n",
       "      <td>0.366485</td>\n",
       "      <td>0.504954</td>\n",
       "      <td>0.748370</td>\n",
       "      <td>rain</td>\n",
       "    </tr>\n",
       "    <tr>\n",
       "      <th>1</th>\n",
       "      <td>0.715305</td>\n",
       "      <td>0.235520</td>\n",
       "      <td>0.297292</td>\n",
       "      <td>0.049759</td>\n",
       "      <td>0.180070</td>\n",
       "      <td>no rain</td>\n",
       "    </tr>\n",
       "    <tr>\n",
       "      <th>2</th>\n",
       "      <td>0.602850</td>\n",
       "      <td>0.758193</td>\n",
       "      <td>0.068145</td>\n",
       "      <td>0.148433</td>\n",
       "      <td>0.388977</td>\n",
       "      <td>no rain</td>\n",
       "    </tr>\n",
       "    <tr>\n",
       "      <th>3</th>\n",
       "      <td>0.544954</td>\n",
       "      <td>0.633821</td>\n",
       "      <td>0.352225</td>\n",
       "      <td>0.672518</td>\n",
       "      <td>0.037409</td>\n",
       "      <td>rain</td>\n",
       "    </tr>\n",
       "    <tr>\n",
       "      <th>4</th>\n",
       "      <td>0.423693</td>\n",
       "      <td>0.955157</td>\n",
       "      <td>0.231829</td>\n",
       "      <td>0.476696</td>\n",
       "      <td>0.011586</td>\n",
       "      <td>no rain</td>\n",
       "    </tr>\n",
       "    <tr>\n",
       "      <th>...</th>\n",
       "      <td>...</td>\n",
       "      <td>...</td>\n",
       "      <td>...</td>\n",
       "      <td>...</td>\n",
       "      <td>...</td>\n",
       "      <td>...</td>\n",
       "    </tr>\n",
       "    <tr>\n",
       "      <th>2495</th>\n",
       "      <td>0.471715</td>\n",
       "      <td>0.218107</td>\n",
       "      <td>0.590184</td>\n",
       "      <td>0.550391</td>\n",
       "      <td>0.538389</td>\n",
       "      <td>no rain</td>\n",
       "    </tr>\n",
       "    <tr>\n",
       "      <th>2496</th>\n",
       "      <td>0.702452</td>\n",
       "      <td>0.235407</td>\n",
       "      <td>0.544045</td>\n",
       "      <td>0.397069</td>\n",
       "      <td>0.408404</td>\n",
       "      <td>no rain</td>\n",
       "    </tr>\n",
       "    <tr>\n",
       "      <th>2497</th>\n",
       "      <td>0.724449</td>\n",
       "      <td>0.197337</td>\n",
       "      <td>0.144443</td>\n",
       "      <td>0.758410</td>\n",
       "      <td>0.273037</td>\n",
       "      <td>no rain</td>\n",
       "    </tr>\n",
       "    <tr>\n",
       "      <th>2498</th>\n",
       "      <td>0.191548</td>\n",
       "      <td>0.398658</td>\n",
       "      <td>0.118308</td>\n",
       "      <td>0.023641</td>\n",
       "      <td>0.950212</td>\n",
       "      <td>no rain</td>\n",
       "    </tr>\n",
       "    <tr>\n",
       "      <th>2499</th>\n",
       "      <td>0.662276</td>\n",
       "      <td>0.958625</td>\n",
       "      <td>0.928159</td>\n",
       "      <td>0.813565</td>\n",
       "      <td>0.310338</td>\n",
       "      <td>no rain</td>\n",
       "    </tr>\n",
       "  </tbody>\n",
       "</table>\n",
       "<p>2500 rows × 6 columns</p>\n",
       "</div>"
      ],
      "text/plain": [
       "      Temperature  Humidity  Wind_Speed  Cloud_Cover  Pressure     Rain\n",
       "0        0.548885  0.851343    0.366485     0.504954  0.748370     rain\n",
       "1        0.715305  0.235520    0.297292     0.049759  0.180070  no rain\n",
       "2        0.602850  0.758193    0.068145     0.148433  0.388977  no rain\n",
       "3        0.544954  0.633821    0.352225     0.672518  0.037409     rain\n",
       "4        0.423693  0.955157    0.231829     0.476696  0.011586  no rain\n",
       "...           ...       ...         ...          ...       ...      ...\n",
       "2495     0.471715  0.218107    0.590184     0.550391  0.538389  no rain\n",
       "2496     0.702452  0.235407    0.544045     0.397069  0.408404  no rain\n",
       "2497     0.724449  0.197337    0.144443     0.758410  0.273037  no rain\n",
       "2498     0.191548  0.398658    0.118308     0.023641  0.950212  no rain\n",
       "2499     0.662276  0.958625    0.928159     0.813565  0.310338  no rain\n",
       "\n",
       "[2500 rows x 6 columns]"
      ]
     },
     "execution_count": 80,
     "metadata": {},
     "output_type": "execute_result"
    }
   ],
   "source": [
    "\"\"\"Perform Minmax Scaling on Appropraite Columns\"\"\"\n",
    "data['Temperature'] = minmax_scaling(data, 'Temperature')\n",
    "data['Humidity'] = minmax_scaling(data, 'Humidity')\n",
    "data['Wind_Speed'] = minmax_scaling(data, 'Wind_Speed')\n",
    "data['Cloud_Cover'] = minmax_scaling(data, 'Cloud_Cover')\n",
    "data['Pressure'] = minmax_scaling(data, 'Pressure')\n",
    "data"
   ]
  },
  {
   "cell_type": "markdown",
   "id": "b80871fa",
   "metadata": {},
   "source": [
    "### Perform Encoding"
   ]
  },
  {
   "cell_type": "code",
   "execution_count": 81,
   "id": "7b02b9f7",
   "metadata": {},
   "outputs": [
    {
     "data": {
      "text/html": [
       "<div>\n",
       "<style scoped>\n",
       "    .dataframe tbody tr th:only-of-type {\n",
       "        vertical-align: middle;\n",
       "    }\n",
       "\n",
       "    .dataframe tbody tr th {\n",
       "        vertical-align: top;\n",
       "    }\n",
       "\n",
       "    .dataframe thead th {\n",
       "        text-align: right;\n",
       "    }\n",
       "</style>\n",
       "<table border=\"1\" class=\"dataframe\">\n",
       "  <thead>\n",
       "    <tr style=\"text-align: right;\">\n",
       "      <th></th>\n",
       "      <th>Temperature</th>\n",
       "      <th>Humidity</th>\n",
       "      <th>Wind_Speed</th>\n",
       "      <th>Cloud_Cover</th>\n",
       "      <th>Pressure</th>\n",
       "      <th>Rain</th>\n",
       "    </tr>\n",
       "  </thead>\n",
       "  <tbody>\n",
       "    <tr>\n",
       "      <th>0</th>\n",
       "      <td>0.548885</td>\n",
       "      <td>0.851343</td>\n",
       "      <td>0.366485</td>\n",
       "      <td>0.504954</td>\n",
       "      <td>0.748370</td>\n",
       "      <td>1</td>\n",
       "    </tr>\n",
       "    <tr>\n",
       "      <th>1</th>\n",
       "      <td>0.715305</td>\n",
       "      <td>0.235520</td>\n",
       "      <td>0.297292</td>\n",
       "      <td>0.049759</td>\n",
       "      <td>0.180070</td>\n",
       "      <td>0</td>\n",
       "    </tr>\n",
       "    <tr>\n",
       "      <th>2</th>\n",
       "      <td>0.602850</td>\n",
       "      <td>0.758193</td>\n",
       "      <td>0.068145</td>\n",
       "      <td>0.148433</td>\n",
       "      <td>0.388977</td>\n",
       "      <td>0</td>\n",
       "    </tr>\n",
       "    <tr>\n",
       "      <th>3</th>\n",
       "      <td>0.544954</td>\n",
       "      <td>0.633821</td>\n",
       "      <td>0.352225</td>\n",
       "      <td>0.672518</td>\n",
       "      <td>0.037409</td>\n",
       "      <td>1</td>\n",
       "    </tr>\n",
       "    <tr>\n",
       "      <th>4</th>\n",
       "      <td>0.423693</td>\n",
       "      <td>0.955157</td>\n",
       "      <td>0.231829</td>\n",
       "      <td>0.476696</td>\n",
       "      <td>0.011586</td>\n",
       "      <td>0</td>\n",
       "    </tr>\n",
       "    <tr>\n",
       "      <th>...</th>\n",
       "      <td>...</td>\n",
       "      <td>...</td>\n",
       "      <td>...</td>\n",
       "      <td>...</td>\n",
       "      <td>...</td>\n",
       "      <td>...</td>\n",
       "    </tr>\n",
       "    <tr>\n",
       "      <th>2495</th>\n",
       "      <td>0.471715</td>\n",
       "      <td>0.218107</td>\n",
       "      <td>0.590184</td>\n",
       "      <td>0.550391</td>\n",
       "      <td>0.538389</td>\n",
       "      <td>0</td>\n",
       "    </tr>\n",
       "    <tr>\n",
       "      <th>2496</th>\n",
       "      <td>0.702452</td>\n",
       "      <td>0.235407</td>\n",
       "      <td>0.544045</td>\n",
       "      <td>0.397069</td>\n",
       "      <td>0.408404</td>\n",
       "      <td>0</td>\n",
       "    </tr>\n",
       "    <tr>\n",
       "      <th>2497</th>\n",
       "      <td>0.724449</td>\n",
       "      <td>0.197337</td>\n",
       "      <td>0.144443</td>\n",
       "      <td>0.758410</td>\n",
       "      <td>0.273037</td>\n",
       "      <td>0</td>\n",
       "    </tr>\n",
       "    <tr>\n",
       "      <th>2498</th>\n",
       "      <td>0.191548</td>\n",
       "      <td>0.398658</td>\n",
       "      <td>0.118308</td>\n",
       "      <td>0.023641</td>\n",
       "      <td>0.950212</td>\n",
       "      <td>0</td>\n",
       "    </tr>\n",
       "    <tr>\n",
       "      <th>2499</th>\n",
       "      <td>0.662276</td>\n",
       "      <td>0.958625</td>\n",
       "      <td>0.928159</td>\n",
       "      <td>0.813565</td>\n",
       "      <td>0.310338</td>\n",
       "      <td>0</td>\n",
       "    </tr>\n",
       "  </tbody>\n",
       "</table>\n",
       "<p>2500 rows × 6 columns</p>\n",
       "</div>"
      ],
      "text/plain": [
       "      Temperature  Humidity  Wind_Speed  Cloud_Cover  Pressure  Rain\n",
       "0        0.548885  0.851343    0.366485     0.504954  0.748370     1\n",
       "1        0.715305  0.235520    0.297292     0.049759  0.180070     0\n",
       "2        0.602850  0.758193    0.068145     0.148433  0.388977     0\n",
       "3        0.544954  0.633821    0.352225     0.672518  0.037409     1\n",
       "4        0.423693  0.955157    0.231829     0.476696  0.011586     0\n",
       "...           ...       ...         ...          ...       ...   ...\n",
       "2495     0.471715  0.218107    0.590184     0.550391  0.538389     0\n",
       "2496     0.702452  0.235407    0.544045     0.397069  0.408404     0\n",
       "2497     0.724449  0.197337    0.144443     0.758410  0.273037     0\n",
       "2498     0.191548  0.398658    0.118308     0.023641  0.950212     0\n",
       "2499     0.662276  0.958625    0.928159     0.813565  0.310338     0\n",
       "\n",
       "[2500 rows x 6 columns]"
      ]
     },
     "execution_count": 81,
     "metadata": {},
     "output_type": "execute_result"
    }
   ],
   "source": [
    "\"\"\"Encode target column which is a categorical attribute (Hint: data[col].map)\"\"\"\n",
    "data['Rain'] = data['Rain'].map({'rain': 1, 'no rain': 0})\n",
    "data"
   ]
  },
  {
   "cell_type": "markdown",
   "id": "011b9faf",
   "metadata": {},
   "source": [
    "### Divide Data into Training and Testing"
   ]
  },
  {
   "cell_type": "code",
   "execution_count": 82,
   "id": "fbcec90e",
   "metadata": {},
   "outputs": [],
   "source": [
    "def train_test_split (data, ratio):\n",
    "    indices = np.random.permutation(data.shape[0])\n",
    "    test_set_size = int(data.shape[0] * ratio)\n",
    "    test_indices = indices[:test_set_size]\n",
    "    train_indices = indices[test_set_size:]\n",
    "\n",
    "    return data.iloc[train_indices], data.iloc[test_indices]"
   ]
  },
  {
   "cell_type": "code",
   "execution_count": 83,
   "id": "94cb147f",
   "metadata": {},
   "outputs": [],
   "source": [
    "\"\"\"Understand the above function and divide data into X_train, X_test, y_train, y_test\"\"\"\n",
    "train_data, test_data = train_test_split(data, 0.3) # 70% train , 30% test\n",
    "X_train = train_data[['Temperature','Humidity','Wind_Speed','Cloud_Cover','Pressure']].values\n",
    "y_train = train_data[['Rain']].values.reshape(-1, 1)\n",
    "X_test = test_data[['Temperature','Humidity','Wind_Speed','Cloud_Cover','Pressure']].values\n",
    "y_test = test_data[['Rain']].values.reshape(-1, 1)"
   ]
  },
  {
   "cell_type": "markdown",
   "id": "1e9bca6c",
   "metadata": {},
   "source": [
    "### Compute the Sigmoid Function"
   ]
  },
  {
   "cell_type": "code",
   "execution_count": 84,
   "id": "88aaffba",
   "metadata": {},
   "outputs": [],
   "source": [
    "\"\"\"This function is used by consequent functions\"\"\"\n",
    "\n",
    "def sigmoid (z):\n",
    "    \"\"\"\n",
    "    Compute the sigmoid of z\n",
    "\n",
    "    Args:\n",
    "        z (ndarray): A scalar, numpy array of any size.\n",
    "\n",
    "    Returns:\n",
    "        g (ndarray): sigmoid(z), with the same shape as z\n",
    "    \n",
    "    Hint: np.exp()\n",
    "    \"\"\"\n",
    "    return 1 / (1 + np.exp(-z))   # 1/ 1 + e^-z"
   ]
  },
  {
   "cell_type": "code",
   "execution_count": 85,
   "id": "6ff6c547",
   "metadata": {},
   "outputs": [
    {
     "name": "stdout",
     "output_type": "stream",
     "text": [
      "sigmoid(0) = 0.5\n"
     ]
    }
   ],
   "source": [
    "\"\"\"Test above function\"\"\"\n",
    "\n",
    "value = 0\n",
    "print (f\"sigmoid({value}) = {sigmoid(value)}\")"
   ]
  },
  {
   "cell_type": "markdown",
   "id": "4ced6ddc",
   "metadata": {},
   "source": [
    "### Compute the Cost Function"
   ]
  },
  {
   "cell_type": "code",
   "execution_count": 86,
   "id": "a2e9d248",
   "metadata": {},
   "outputs": [],
   "source": [
    "\"\"\"This function is used by consequent functions\"\"\"\n",
    "#measure how far from the y truth\n",
    "\n",
    "def compute_cost(X, y, w): \n",
    "    \"\"\"\n",
    "    Computes the logistic regression cost using a loop.\n",
    "\n",
    "    Args:\n",
    "      X : (ndarray Shape (m,n)) training data\n",
    "      y : (ndarray Shape (m,1))  target values\n",
    "      w : (ndarray Shape (n,1))  weights\n",
    "\n",
    "    Returns:\n",
    "      cost : scalar\n",
    "    \"\"\"\n",
    "    m = X.shape[0]\n",
    "    total_cost = 0\n",
    "\n",
    "    for i in range(m):\n",
    "        z = X @ w          \n",
    "        h = sigmoid(z)\n",
    "        cost_i = - y[i] * np.log(h) - (1 -  y[i]) * np.log(1 - h)\n",
    "        total_cost += cost_i\n",
    "\n",
    "    return total_cost / m"
   ]
  },
  {
   "cell_type": "code",
   "execution_count": 87,
   "id": "fa7c7c9a",
   "metadata": {},
   "outputs": [
    {
     "name": "stdout",
     "output_type": "stream",
     "text": [
      "Cost at initial w: [0.69314718 0.69314718 0.69314718 ... 0.69314718 0.69314718 0.69314718]\n"
     ]
    }
   ],
   "source": [
    "\"\"\"Test above function\"\"\"\n",
    "m, n = X_train.shape\n",
    "initial_w = np.zeros(n)    #base line to start computing\n",
    "cost = compute_cost(X_train, y_train, initial_w)\n",
    "print('Cost at initial w: {}'.format(cost))"
   ]
  },
  {
   "cell_type": "markdown",
   "id": "7e9b0621",
   "metadata": {},
   "source": [
    "### Compute Gradient of the Cost Function"
   ]
  },
  {
   "cell_type": "code",
   "execution_count": 88,
   "id": "29ee4b66",
   "metadata": {},
   "outputs": [],
   "source": [
    "\"\"\"This function is used by consequent function\"\"\"\n",
    "\n",
    "def compute_gradient(X, y, w): \n",
    "    \"\"\"\n",
    "    Computes the gradient for logistic regression \n",
    " \n",
    "    Args:\n",
    "      X : (ndarray Shape (m,n)) data, m examples by n features\n",
    "      y : (ndarray Shape (m,))  target value \n",
    "      w : (ndarray Shape (n,))  values of parameters of the model                  \n",
    "    Returns\n",
    "      dj_dw : (ndarray Shape (n,)) The gradient of the cost w.r.t. the parameters w.     \n",
    "    \"\"\"\n",
    "    m = X.shape[0]\n",
    "    z = np.dot(X, w)\n",
    "    h = sigmoid(z)\n",
    "    gradient = (1/m) * np.dot(X.T, (h - y))    #(1/m)* ((h-y) x)\n",
    "    return gradient"
   ]
  },
  {
   "cell_type": "code",
   "execution_count": 89,
   "id": "1d6a133e",
   "metadata": {},
   "outputs": [
    {
     "name": "stdout",
     "output_type": "stream",
     "text": [
      "dj_dw at initial w: [[0.21737846198784957], [0.156334634011174], [0.19030023474682486], [0.1618833426733165], [0.185922916857178]]\n"
     ]
    }
   ],
   "source": [
    "\"\"\"Test above function\"\"\"\n",
    "# Compute and display gradient with w and b initialized to zeros\n",
    "initial_w = np.zeros(X_train.shape[1]).reshape(-1, 1)\n",
    "dj_dw = compute_gradient(X_train, y_train, initial_w)\n",
    "print(f'dj_dw at initial w: {dj_dw.tolist()}' ) # numpy array into python list"
   ]
  },
  {
   "cell_type": "markdown",
   "id": "8c401478",
   "metadata": {},
   "source": [
    "### Calcualte Weights Using Gradient Descent"
   ]
  },
  {
   "cell_type": "code",
   "execution_count": 90,
   "id": "7e850309",
   "metadata": {},
   "outputs": [],
   "source": [
    "def gradient_descent(X, y, w_in, cost_function, gradient_function, alpha, num_iters): \n",
    "    \"\"\"\n",
    "    Performs batch gradient descent to learn theta. Updates theta by taking \n",
    "    num_iters gradient steps with learning rate alpha\n",
    "    \n",
    "    Args:\n",
    "      X :    (ndarray Shape (m, n) training data, m examples by n features\n",
    "      y :    (ndarray Shape (m,))  target value \n",
    "      w_in : (ndarray Shape (n,))  Initial values of parameters of the model      \n",
    "      cost_function :              function to compute cost\n",
    "      gradient_function :          function to compute gradient\n",
    "      alpha : (float)              Learning rate\n",
    "      num_iters : (int)            number of iterations to run gradient descent\n",
    "      \n",
    "      \n",
    "    Returns:\n",
    "      w : (ndarray Shape (n,)) Updated values of parameters/weights of the model after\n",
    "          running gradient descent      \n",
    "    \"\"\"\n",
    "    w = w_in.copy()\n",
    "    for i in range(num_iters):\n",
    "        grad = gradient_function(X, y, w)\n",
    "        w -= alpha * grad                           #theta(j)-alpha *grad\n",
    "        if i % 100 == 0:\n",
    "            cost = cost_function(X, y, w)\n",
    "            print(f\"Iteration {i}: Cost {cost}\")\n",
    "    return w\n"
   ]
  },
  {
   "cell_type": "code",
   "execution_count": 91,
   "id": "310c1c23",
   "metadata": {},
   "outputs": [
    {
     "name": "stdout",
     "output_type": "stream",
     "text": [
      "Iteration 0: Cost [0.6251264  0.59773519 0.59609349 ... 0.61471764 0.61740185 0.65283892]\n",
      "Iteration 100: Cost [0.37212557 0.36875125 0.37444612 ... 0.37559813 0.36127879 0.54707788]\n",
      "Iteration 200: Cost [0.3676153  0.38600471 0.39904365 ... 0.38558058 0.35861857 0.62965382]\n",
      "Iteration 300: Cost [0.36389216 0.40418021 0.42438194 ... 0.3906455  0.35772515 0.69036605]\n",
      "Iteration 400: Cost [0.36141947 0.42074015 0.44725379 ... 0.39325911 0.35809807 0.73637138]\n",
      "Iteration 500: Cost [0.35986352 0.43514357 0.46704865 ... 0.39465724 0.359148   0.77232335]\n",
      "Iteration 600: Cost [0.35890529 0.44749198 0.48395878 ... 0.39541611 0.36050902 0.80109482]\n",
      "Iteration 700: Cost [0.35832809 0.45804519 0.49836497 ... 0.39582062 0.36197604 0.82453688]\n",
      "Iteration 800: Cost [0.35799367 0.46707299 0.5106514  ... 0.39602111 0.36343743 0.84390051]\n",
      "Iteration 900: Cost [0.3578144  0.47481456 0.521156   ... 0.39610143 0.36483412 0.86006694]\n",
      "Optimal weights: [-5.32147613  1.9894481  -2.12602365  1.96890252 -1.9024293 ]\n"
     ]
    }
   ],
   "source": [
    "\"\"\"Call above function on your data with appropraite parameters and fetch the optimal weights.\"\"\"\n",
    "initial_w = np.zeros(X_train.shape[1]) # NO OF COLS\n",
    "\n",
    "\n",
    "alpha = 0.5      \n",
    "num_iters = 1000  \n",
    "y_train = y_train.flatten()\n",
    "optimal_w = gradient_descent(X_train, y_train, initial_w, compute_cost, compute_gradient, alpha, num_iters)\n",
    "\n",
    "print(\"Optimal weights:\", optimal_w)"
   ]
  },
  {
   "cell_type": "markdown",
   "id": "9334d75b",
   "metadata": {},
   "source": [
    "### Calculate Predictions on Test Test"
   ]
  },
  {
   "cell_type": "code",
   "execution_count": 94,
   "id": "cd4e537c",
   "metadata": {},
   "outputs": [],
   "source": [
    "def predict(X, w): \n",
    "    \"\"\"\n",
    "    Predict whether the label is 0 or 1 using learned logistic\n",
    "    regression parameters w.\n",
    "    \n",
    "    Args:\n",
    "      X : (ndarray Shape (m,n)) test data, m examples by n features\n",
    "      w : (ndarray Shape (n,))  values of parameters of the model            \n",
    "\n",
    "    Returns:\n",
    "      p : (ndarray (m,)) The predictions for X using a threshold at 0.5\n",
    "    \"\"\"\n",
    "    \n",
    "    probs = sigmoid(np.dot(X, w))\n",
    "    return (probs >= 0.5).astype(int)\n"
   ]
  },
  {
   "cell_type": "markdown",
   "id": "5ab685df",
   "metadata": {},
   "source": [
    "### Calculate Accuracy of Model"
   ]
  },
  {
   "cell_type": "code",
   "execution_count": 96,
   "id": "76b528da",
   "metadata": {},
   "outputs": [
    {
     "name": "stdout",
     "output_type": "stream",
     "text": [
      "Model accuracy on test set: 76.838\n"
     ]
    }
   ],
   "source": [
    "\"\"\"Build a logic to estimate the model's accuracy\"\"\"\n",
    "y_pred = predict(X_test, optimal_w )\n",
    "accuracy = np.mean(y_pred == y_test)\n",
    "print(f\"Model accuracy on test set: {accuracy*100:.3f}\")"
   ]
  }
 ],
 "metadata": {
  "kernelspec": {
   "display_name": "Python 3",
   "language": "python",
   "name": "python3"
  },
  "language_info": {
   "codemirror_mode": {
    "name": "ipython",
    "version": 3
   },
   "file_extension": ".py",
   "mimetype": "text/x-python",
   "name": "python",
   "nbconvert_exporter": "python",
   "pygments_lexer": "ipython3",
   "version": "3.13.1"
  }
 },
 "nbformat": 4,
 "nbformat_minor": 5
}
